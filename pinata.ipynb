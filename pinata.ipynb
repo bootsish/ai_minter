{
 "cells": [
  {
   "cell_type": "code",
   "execution_count": 1,
   "metadata": {},
   "outputs": [
    {
     "name": "stderr",
     "output_type": "stream",
     "text": [
      "2023-01-23 22:57:13.783 INFO    numexpr.utils: Note: NumExpr detected 16 cores but \"NUMEXPR_MAX_THREADS\" not set, so enforcing safe limit of 8.\n",
      "2023-01-23 22:57:13.784 INFO    numexpr.utils: NumExpr defaulting to 8 threads.\n"
     ]
    }
   ],
   "source": [
    "import os\n",
    "import requests\n",
    "import json\n",
    "from web3 import Web3\n",
    "from pathlib import Path\n",
    "from dotenv import load_dotenv\n",
    "import streamlit as st\n",
    "from qualifier.utils.pinata import pinFiletoIPFS, pinJSONtoIPFS, convertDatatoJSON\n",
    "from qualifier.utils.openai import generate_image, getImage"
   ]
  },
  {
   "cell_type": "code",
   "execution_count": 2,
   "metadata": {},
   "outputs": [],
   "source": [
    "def pinArtWork(name, file):\n",
    "    IPFSfilehash = pinFiletoIPFS(file.getvalue())\n",
    "    \n",
    "    tokenJSON = {\n",
    "        \"name\":name,\n",
    "        \"image\":IPFSfilehash\n",
    "    }\n",
    "    \n",
    "    JSONdata = convertDatatoJSON(tokenJSON)\n",
    "    JSONIPFShash = pinJSONtoIPFS(JSONdata)    \n",
    "    return JSONIPFShash, tokenJSON\n",
    "\n",
    "def pinAppraisal(content):\n",
    "    JSONdata = convertDatatoJSON(content)\n",
    "    JSONIPFShash = pinJSONtoIPFS(JSONdata)\n",
    "    return JSONIPFShash"
   ]
  },
  {
   "cell_type": "code",
   "execution_count": 7,
   "metadata": {},
   "outputs": [],
   "source": [
    "name = \"A Creative Robot\"\n",
    "artist = \"Bootsish\"\n",
    "appraisalValue = 1\n",
    "file = open(Path(\"./resources/ai.png\"))"
   ]
  },
  {
   "cell_type": "code",
   "execution_count": 6,
   "metadata": {},
   "outputs": [
    {
     "ename": "AttributeError",
     "evalue": "'PosixPath' object has no attribute 'getvalue'",
     "output_type": "error",
     "traceback": [
      "\u001b[0;31m---------------------------------------------------------------------------\u001b[0m",
      "\u001b[0;31mAttributeError\u001b[0m                            Traceback (most recent call last)",
      "\u001b[0;32m/var/folders/pc/1ps156v90bd96p2_kzf09pg40000gn/T/ipykernel_85941/627810816.py\u001b[0m in \u001b[0;36m<module>\u001b[0;34m\u001b[0m\n\u001b[0;32m----> 1\u001b[0;31m \u001b[0mJSONIPFShash\u001b[0m\u001b[0;34m,\u001b[0m \u001b[0mtokenJSON\u001b[0m \u001b[0;34m=\u001b[0m \u001b[0mpinArtWork\u001b[0m\u001b[0;34m(\u001b[0m\u001b[0mname\u001b[0m\u001b[0;34m,\u001b[0m \u001b[0mfile\u001b[0m\u001b[0;34m)\u001b[0m\u001b[0;34m\u001b[0m\u001b[0;34m\u001b[0m\u001b[0m\n\u001b[0m\u001b[1;32m      2\u001b[0m \u001b[0mtokenURI\u001b[0m \u001b[0;34m=\u001b[0m \u001b[0;34mf\"ipfs://{JSONIPFShash}\"\u001b[0m\u001b[0;34m\u001b[0m\u001b[0;34m\u001b[0m\u001b[0m\n\u001b[1;32m      3\u001b[0m \u001b[0;34m\u001b[0m\u001b[0m\n\u001b[1;32m      4\u001b[0m \u001b[0mIPFSfilehash\u001b[0m \u001b[0;34m=\u001b[0m \u001b[0mtokenJSON\u001b[0m\u001b[0;34m[\u001b[0m\u001b[0;34m\"image\"\u001b[0m\u001b[0;34m]\u001b[0m\u001b[0;34m\u001b[0m\u001b[0;34m\u001b[0m\u001b[0m\n",
      "\u001b[0;32m/var/folders/pc/1ps156v90bd96p2_kzf09pg40000gn/T/ipykernel_85941/725397404.py\u001b[0m in \u001b[0;36mpinArtWork\u001b[0;34m(name, file)\u001b[0m\n\u001b[1;32m      1\u001b[0m \u001b[0;32mdef\u001b[0m \u001b[0mpinArtWork\u001b[0m\u001b[0;34m(\u001b[0m\u001b[0mname\u001b[0m\u001b[0;34m,\u001b[0m \u001b[0mfile\u001b[0m\u001b[0;34m)\u001b[0m\u001b[0;34m:\u001b[0m\u001b[0;34m\u001b[0m\u001b[0;34m\u001b[0m\u001b[0m\n\u001b[0;32m----> 2\u001b[0;31m     \u001b[0mIPFSfilehash\u001b[0m \u001b[0;34m=\u001b[0m \u001b[0mpinFiletoIPFS\u001b[0m\u001b[0;34m(\u001b[0m\u001b[0mfile\u001b[0m\u001b[0;34m.\u001b[0m\u001b[0mgetvalue\u001b[0m\u001b[0;34m(\u001b[0m\u001b[0;34m)\u001b[0m\u001b[0;34m)\u001b[0m\u001b[0;34m\u001b[0m\u001b[0;34m\u001b[0m\u001b[0m\n\u001b[0m\u001b[1;32m      3\u001b[0m \u001b[0;34m\u001b[0m\u001b[0m\n\u001b[1;32m      4\u001b[0m     tokenJSON = {\n\u001b[1;32m      5\u001b[0m         \u001b[0;34m\"name\"\u001b[0m\u001b[0;34m:\u001b[0m\u001b[0mname\u001b[0m\u001b[0;34m,\u001b[0m\u001b[0;34m\u001b[0m\u001b[0;34m\u001b[0m\u001b[0m\n",
      "\u001b[0;31mAttributeError\u001b[0m: 'PosixPath' object has no attribute 'getvalue'"
     ]
    }
   ],
   "source": [
    "JSONIPFShash, tokenJSON = pinArtWork(name, file)\n",
    "tokenURI = f\"ipfs://{JSONIPFShash}\"\n",
    "\n",
    "IPFSfilehash = tokenJSON[\"image\"] "
   ]
  },
  {
   "cell_type": "code",
   "execution_count": null,
   "metadata": {},
   "outputs": [],
   "source": [
    "print(f\"[IPFS Gateway Link](https://ipfs.io/ipfs/{JSONIPFShash})\") \n",
    "print(f\"[IPFS Image Link](https://ipfs.io/ipfs/{IPFSfilehash})\")"
   ]
  }
 ],
 "metadata": {
  "kernelspec": {
   "display_name": "dev",
   "language": "python",
   "name": "python3"
  },
  "language_info": {
   "codemirror_mode": {
    "name": "ipython",
    "version": 3
   },
   "file_extension": ".py",
   "mimetype": "text/x-python",
   "name": "python",
   "nbconvert_exporter": "python",
   "pygments_lexer": "ipython3",
   "version": "3.7.13"
  },
  "orig_nbformat": 4,
  "vscode": {
   "interpreter": {
    "hash": "c15db3377afa3dcb659dfa4a45bef3fc6c9aec87eaa6dcb1828c53c173a1512b"
   }
  }
 },
 "nbformat": 4,
 "nbformat_minor": 2
}
